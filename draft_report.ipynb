{
 "cells": [
  {
   "cell_type": "markdown",
   "id": "premier-milan",
   "metadata": {},
   "source": [
    "# Github README Languages\n",
    "\n",
    "* The title of your project goes here"
   ]
  },
  {
   "cell_type": "markdown",
   "id": "going-assembly",
   "metadata": {},
   "source": [
    "## Imports"
   ]
  },
  {
   "cell_type": "code",
   "execution_count": 1,
   "id": "divided-poster",
   "metadata": {},
   "outputs": [],
   "source": [
    "# imports \n",
    "import pandas as pd\n",
    "from prepare import basic_prepare\n",
    "from explore import get_perc_word_count, get_common_words"
   ]
  },
  {
   "cell_type": "markdown",
   "id": "criminal-glory",
   "metadata": {},
   "source": [
    "## Acquire\n",
    "\n",
    "* Webscraping was used to pull information from github repositories\n",
    "* Acquired on May 17th at 3pm\n",
    "* 120 rows and 3 columns\n",
    "    * Each row represents a github repository\n",
    "    * The columns include repo name, language, and readme contents"
   ]
  },
  {
   "cell_type": "code",
   "execution_count": 3,
   "id": "paperback-gather",
   "metadata": {},
   "outputs": [
    {
     "data": {
      "text/html": [
       "<div>\n",
       "<style scoped>\n",
       "    .dataframe tbody tr th:only-of-type {\n",
       "        vertical-align: middle;\n",
       "    }\n",
       "\n",
       "    .dataframe tbody tr th {\n",
       "        vertical-align: top;\n",
       "    }\n",
       "\n",
       "    .dataframe thead th {\n",
       "        text-align: right;\n",
       "    }\n",
       "</style>\n",
       "<table border=\"1\" class=\"dataframe\">\n",
       "  <thead>\n",
       "    <tr style=\"text-align: right;\">\n",
       "      <th></th>\n",
       "      <th>repo</th>\n",
       "      <th>language</th>\n",
       "      <th>readme_contents</th>\n",
       "    </tr>\n",
       "  </thead>\n",
       "  <tbody>\n",
       "    <tr>\n",
       "      <th>0</th>\n",
       "      <td>nightscout/cgm-remote-monitor</td>\n",
       "      <td>JavaScript</td>\n",
       "      <td>Nightscout Web Monitor (a.k.a. cgm-remote-moni...</td>\n",
       "    </tr>\n",
       "    <tr>\n",
       "      <th>1</th>\n",
       "      <td>soyHenry/Prep-Course</td>\n",
       "      <td>JavaScript</td>\n",
       "      <td>![HenryLogo](https://d31uz8lwfmyn8g.cloudfront...</td>\n",
       "    </tr>\n",
       "    <tr>\n",
       "      <th>2</th>\n",
       "      <td>udacity/frontend-nanodegree-resume</td>\n",
       "      <td>JavaScript</td>\n",
       "      <td># Project Details\\n## How do I complete this p...</td>\n",
       "    </tr>\n",
       "    <tr>\n",
       "      <th>3</th>\n",
       "      <td>odoo/odoo</td>\n",
       "      <td>JavaScript</td>\n",
       "      <td>[![Build Status](https://runbot.odoo.com/runbo...</td>\n",
       "    </tr>\n",
       "    <tr>\n",
       "      <th>4</th>\n",
       "      <td>atom/atom</td>\n",
       "      <td>JavaScript</td>\n",
       "      <td># Atom\\n\\n[![Build status](https://dev.azure.c...</td>\n",
       "    </tr>\n",
       "  </tbody>\n",
       "</table>\n",
       "</div>"
      ],
      "text/plain": [
       "                                 repo    language  \\\n",
       "0       nightscout/cgm-remote-monitor  JavaScript   \n",
       "1                soyHenry/Prep-Course  JavaScript   \n",
       "2  udacity/frontend-nanodegree-resume  JavaScript   \n",
       "3                           odoo/odoo  JavaScript   \n",
       "4                           atom/atom  JavaScript   \n",
       "\n",
       "                                     readme_contents  \n",
       "0  Nightscout Web Monitor (a.k.a. cgm-remote-moni...  \n",
       "1  ![HenryLogo](https://d31uz8lwfmyn8g.cloudfront...  \n",
       "2  # Project Details\\n## How do I complete this p...  \n",
       "3  [![Build Status](https://runbot.odoo.com/runbo...  \n",
       "4  # Atom\\n\\n[![Build status](https://dev.azure.c...  "
      ]
     },
     "execution_count": 3,
     "metadata": {},
     "output_type": "execute_result"
    }
   ],
   "source": [
    "# Import acquired messy data \n",
    "df = pd.read_csv('github_data.csv')\n",
    "df.head()"
   ]
  },
  {
   "cell_type": "markdown",
   "id": "impossible-bible",
   "metadata": {},
   "source": [
    "## Prepare\n",
    "\n",
    "* removed and replaced all \\n with spaces\n",
    "* removed urls\n",
    "* normalized unicode characters\n",
    "* removed special characters\n",
    "* tokenized and lemmatized \n",
    "* dropped null values"
   ]
  },
  {
   "cell_type": "code",
   "execution_count": null,
   "id": "a5570eae",
   "metadata": {},
   "outputs": [],
   "source": [
    "# Import  prepare function and clean data\n",
    "df = basic_prepare(df)"
   ]
  },
  {
   "cell_type": "code",
   "execution_count": 6,
   "id": "flexible-irrigation",
   "metadata": {},
   "outputs": [
    {
     "data": {
      "text/html": [
       "<div>\n",
       "<style scoped>\n",
       "    .dataframe tbody tr th:only-of-type {\n",
       "        vertical-align: middle;\n",
       "    }\n",
       "\n",
       "    .dataframe tbody tr th {\n",
       "        vertical-align: top;\n",
       "    }\n",
       "\n",
       "    .dataframe thead th {\n",
       "        text-align: right;\n",
       "    }\n",
       "</style>\n",
       "<table border=\"1\" class=\"dataframe\">\n",
       "  <thead>\n",
       "    <tr style=\"text-align: right;\">\n",
       "      <th></th>\n",
       "      <th>repo</th>\n",
       "      <th>language</th>\n",
       "      <th>readme_contents</th>\n",
       "      <th>basic_clean_with_code</th>\n",
       "      <th>spacy</th>\n",
       "      <th>lem</th>\n",
       "    </tr>\n",
       "  </thead>\n",
       "  <tbody>\n",
       "    <tr>\n",
       "      <th>0</th>\n",
       "      <td>nightscout/cgm-remote-monitor</td>\n",
       "      <td>JavaScript</td>\n",
       "      <td>Nightscout Web Monitor (a.k.a. cgm-remote-moni...</td>\n",
       "      <td>nightscout web monitor aka cgmremotemonitor ni...</td>\n",
       "      <td>nightscout web monitor aka cgmremotemonitor ni...</td>\n",
       "      <td>nightscout web monitor aka cgmremotemonitor ni...</td>\n",
       "    </tr>\n",
       "  </tbody>\n",
       "</table>\n",
       "</div>"
      ],
      "text/plain": [
       "                            repo    language  \\\n",
       "0  nightscout/cgm-remote-monitor  JavaScript   \n",
       "\n",
       "                                     readme_contents  \\\n",
       "0  Nightscout Web Monitor (a.k.a. cgm-remote-moni...   \n",
       "\n",
       "                               basic_clean_with_code  \\\n",
       "0  nightscout web monitor aka cgmremotemonitor ni...   \n",
       "\n",
       "                                               spacy  \\\n",
       "0  nightscout web monitor aka cgmremotemonitor ni...   \n",
       "\n",
       "                                                 lem  \n",
       "0  nightscout web monitor aka cgmremotemonitor ni...  "
      ]
     },
     "execution_count": 6,
     "metadata": {},
     "output_type": "execute_result"
    }
   ],
   "source": [
    "# check results\n",
    "df.head(1)"
   ]
  },
  {
   "cell_type": "markdown",
   "id": "immediate-mirror",
   "metadata": {},
   "source": [
    "## Explore\n",
    "\n",
    "* Here you will explore your data then highlight 4 questions that you asked of the data and how those questions influenced your analysis\n",
    "* Remember to split your data before exploring how different variables relate to one another\n",
    "* Each question should be stated directly \n",
    "* Each question should be supported by a visualization\n",
    "* Each question should be answered in natural language\n",
    "* Two questions must be supported by a statistical test, but you may choose to support more than two\n",
    "* See the following example, and read the comments in the next cell"
   ]
  },
  {
   "cell_type": "markdown",
   "id": "functional-sierra",
   "metadata": {},
   "source": [
    "**The following empty code block** is here to represent the countless questions, visualizations, and statistical tests \n",
    "that did not make your final report. Data scientist often create a myriad of questions, visualizations \n",
    "and statistical tests that do not make it into the final notebook. This is okay and expected. Remember \n",
    "that shotgun approaches to your data such as using pair plots to look at the relationships of each feature \n",
    "are a great way to explore your data, but they have no place in your final report. \n",
    "**Your final report is about showing and supporting your findings, not showing the work you did to get there!**"
   ]
  },
  {
   "cell_type": "markdown",
   "id": "0836618e",
   "metadata": {},
   "source": [
    "### 1. What are the most common words?"
   ]
  },
  {
   "cell_type": "code",
   "execution_count": 2,
   "id": "064ce0d9",
   "metadata": {},
   "outputs": [
    {
     "data": {
      "image/png": "[encoded data removed]",
      "text/plain": [
       "<Figure size 640x480 with 1 Axes>"
      ]
     },
     "metadata": {},
     "output_type": "display_data"
    }
   ],
   "source": [
    "# getting visual\n",
    "get_common_words()"
   ]
  },
  {
   "cell_type": "markdown",
   "id": "3a6b22b5",
   "metadata": {},
   "source": [
    "#### Takeaways:\n",
    "* Many of the 'words' are html tags\n",
    "* href has the most by far"
   ]
  },
  {
   "cell_type": "markdown",
   "id": "d788fb6a",
   "metadata": {},
   "source": [
    "### 2. What are the proportions of the common wordsfor each language?"
   ]
  },
  {
   "cell_type": "code",
   "execution_count": 3,
   "id": "approximate-thong",
   "metadata": {
    "scrolled": false
   },
   "outputs": [
    {
     "data": {
      "image/png": "[encoded data removed]",
      "text/plain": [
       "<Figure size 640x480 with 1 Axes>"
      ]
     },
     "metadata": {},
     "output_type": "display_data"
    }
   ],
   "source": [
    "# get visual\n",
    "get_perc_word_count()"
   ]
  },
  {
   "cell_type": "markdown",
   "id": "70e91fe7",
   "metadata": {},
   "source": [
    "#### Takeaways:\n",
    "* Python makes up the highest proportion consistently. This may imply that Python READMEs have much more text in them overall."
   ]
  },
  {
   "cell_type": "markdown",
   "id": "incorrect-mailman",
   "metadata": {},
   "source": [
    "## You may use this as a template for how to ask and answer each question:"
   ]
  },
  {
   "cell_type": "markdown",
   "id": "overhead-sleep",
   "metadata": {},
   "source": [
    "### 1) Question about the data\n",
    "* Ask a question about the data for which you got a meaningful result\n",
    "* There is no connection can be a meaningful result\n",
    "\n",
    "### 2) Visualization of the data answering the question\n",
    "\n",
    "* Visualizations should be accompanied by take-aways telling the reader exactly what you want them to get from the chart\n",
    "* You can include theses as bullet points under the chart\n",
    "* Use your chart title to provide the main take-away from each visualization\n",
    "* Each visualization should answer one, and only one, of the explore questions\n",
    "\n",
    "### 3) Statistical test\n",
    "* Be sure you are using the correct statistical test for the type of variables you are testing\n",
    "* Be sure that you are not violating any of the assumptions for the statistical test you are choosing\n",
    "* Your notebook should run and produce the results of the test you are using (This may be done through imports)\n",
    "* Include an introduction to the kind of test you are doing\n",
    "* Include the Ho and Ha for the test\n",
    "* Include the alpha you are using\n",
    "* Include the readout of the p-value for the test\n",
    "* Interpret the results of the test in natural language (I reject the null hypothesis is not sufficient)\n",
    "\n",
    "### 4) Answer to the question\n",
    "* Answer the question you posed of the data by referring to the chart and statistical test (if you used one)\n",
    "* If the question relates to drivers, explain why the feature in question would/wouldn't make a good driver"
   ]
  },
  {
   "cell_type": "markdown",
   "id": "iraqi-sellers",
   "metadata": {},
   "source": [
    "## Exploration Summary\n",
    "* After your explore section, before you start modeling, provide a summary of your findings in Explore\n",
    "* Include a summary of your take-aways\n",
    "* Include a summary of the features you examined and weather or not you will be going to Modeling with each feature and why\n",
    "* It is important to note which features will be going into your model so the reader knows what features you are using to model on"
   ]
  },
  {
   "cell_type": "markdown",
   "id": "minus-tulsa",
   "metadata": {},
   "source": [
    "## Modeling"
   ]
  },
  {
   "cell_type": "markdown",
   "id": "hydraulic-spectrum",
   "metadata": {},
   "source": [
    "### Introduction\n",
    "* Explain how you will be evaluating your models\n",
    "* Include the evaluation metric you will be using and why you have chosen it\n",
    "* Create a baseline and briefly explain how it was calculated "
   ]
  },
  {
   "cell_type": "code",
   "execution_count": 3,
   "id": "ranging-rebecca",
   "metadata": {},
   "outputs": [],
   "source": [
    "# If you use code to generate your baseline run the code and generate the output here"
   ]
  },
  {
   "cell_type": "markdown",
   "id": "thick-dream",
   "metadata": {},
   "source": [
    "Printout should read: <br>\n",
    "Baseline: \"number\" \"evaluation metric\""
   ]
  },
  {
   "cell_type": "markdown",
   "id": "emotional-purchase",
   "metadata": {},
   "source": [
    "### Best 3 Models\n",
    "* Show the three best model results obtained using your selected features to predict the target variable\n",
    "* Typically students will show the top models they are able to generate for three different model types"
   ]
  },
  {
   "cell_type": "markdown",
   "id": "gentle-capability",
   "metadata": {},
   "source": [
    "## You may use this as a template for how to introduce your models:"
   ]
  },
  {
   "cell_type": "markdown",
   "id": "intensive-vietnamese",
   "metadata": {},
   "source": [
    "### Model Type"
   ]
  },
  {
   "cell_type": "code",
   "execution_count": 4,
   "id": "colonial-newport",
   "metadata": {},
   "outputs": [],
   "source": [
    "# Code that runs the best model in that model type goes here \n",
    "# (This may be imported from a module)"
   ]
  },
  {
   "cell_type": "markdown",
   "id": "distinguished-abuse",
   "metadata": {},
   "source": [
    "Printout of model code should read: <br>\n",
    "\"Model Type\" <br>\n",
    "\"evaluation metric\" on train: \"evaluation result\" <br>\n",
    "\"evaluation metric\" on validate: \"evaluation result\""
   ]
  },
  {
   "cell_type": "markdown",
   "id": "regulated-fellowship",
   "metadata": {},
   "source": [
    "### Test Model\n",
    "* Choose the best model out of the three as you best model and explain why you have chosen it\n",
    "* Explain that you will now run your final model on test data to gauge how it will perform on unseen data"
   ]
  },
  {
   "cell_type": "code",
   "execution_count": 5,
   "id": "optical-quilt",
   "metadata": {},
   "outputs": [],
   "source": [
    "# Code that runs the best overall model on test data (this may be imported from a module)"
   ]
  },
  {
   "cell_type": "markdown",
   "id": "motivated-recycling",
   "metadata": {},
   "source": [
    "Printout of model code should read: <br>\n",
    "\"Model Type\" <br>\n",
    "\"evaluation metric\" on Test: \"evaluation result\" <br>"
   ]
  },
  {
   "cell_type": "markdown",
   "id": "bright-evans",
   "metadata": {},
   "source": [
    "### Modeling Wrap \n",
    "* Give a final interpretation of how the models test score compares to the baseline and weather you would recommend this model for production"
   ]
  },
  {
   "cell_type": "markdown",
   "id": "tutorial-twelve",
   "metadata": {},
   "source": [
    "## Conclusion\n",
    "\n",
    "### Summery\n",
    "* Summarize your findings and answer the questions you brought up in explore \n",
    "* Summarize how drivers discovered lead or did not lead to a successful model \n",
    "\n",
    "### Recommendations\n",
    "* Recommendations are actions the stakeholder should take based on your insights\n",
    "\n",
    "### Next Steps\n",
    "* Next Steps are what you, as a Data Scientist, would do if provided more time to work on the project"
   ]
  },
  {
   "cell_type": "markdown",
   "id": "tender-source",
   "metadata": {},
   "source": [
    "**Where there is code in your report there should also be code comments telling the reader what each code block is doing. This is true for any and all code blocks even if you are using a function to import code from a module.**\n",
    "<br>\n",
    "<br>\n",
    "**Your Notebook should contain adequate markdown that documents your thought process, decision making, and navigation through the pipeline. As a Data Scientist, your job does not end with making data discoveries. It includes effectively communicating those discoveries as well. This means documentation is a critical part of your job.**"
   ]
  },
  {
   "cell_type": "markdown",
   "id": "frank-castle",
   "metadata": {},
   "source": [
    "# README\n",
    "\n",
    "Your README should contain all of the following elements:\n",
    "\n",
    "* **Title** Gives the name of your project\n",
    "* **Project Description** Describes what your project is and why it is important \n",
    "* **Project Goal** Clearly states what your project sets out to do and how the information gained can be applied to the real world\n",
    "* **Initial Hypotheses** Initial questions used to focus your project \n",
    "* **Project Plan** Guides the reader through the different stages of the pipeline as they relate to your project\n",
    "* **Data Dictionary** Gives a definition for each of the features used in your report and the units they are measured in, if applicable\n",
    "* **Steps to Reproduce** Gives instructions for reproducing your work. i.e. Running your notebook on someone else's computer."
   ]
  }
 ],
 "metadata": {
  "kernelspec": {
   "display_name": "Python 3 (ipykernel)",
   "language": "python",
   "name": "python3"
  },
  "language_info": {
   "codemirror_mode": {
    "name": "ipython",
    "version": 3
   },
   "file_extension": ".py",
   "mimetype": "text/x-python",
   "name": "python",
   "nbconvert_exporter": "python",
   "pygments_lexer": "ipython3",
   "version": "3.9.13"
  }
 },
 "nbformat": 4,
 "nbformat_minor": 5
}
